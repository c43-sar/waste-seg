{
  "nbformat": 4,
  "nbformat_minor": 0,
  "metadata": {
    "colab": {
      "provenance": [],
      "gpuType": "T4"
    },
    "kernelspec": {
      "name": "python3",
      "display_name": "Python 3"
    },
    "language_info": {
      "name": "python"
    },
    "accelerator": "GPU"
  },
  "cells": [
    {
      "cell_type": "markdown",
      "source": [
        "# Training (Trashcan Segmentation Dataset)"
      ],
      "metadata": {
        "id": "oGsBXiN95m2R"
      }
    },
    {
      "cell_type": "markdown",
      "source": [
        "## Setup"
      ],
      "metadata": {
        "id": "pj8bx7ui5jq_"
      }
    },
    {
      "cell_type": "code",
      "execution_count": 1,
      "metadata": {
        "colab": {
          "base_uri": "https://localhost:8080/"
        },
        "id": "Qvr8QH50pY_r",
        "outputId": "641010d3-9bcb-4007-f4df-0324dec9e435"
      },
      "outputs": [
        {
          "output_type": "stream",
          "name": "stdout",
          "text": [
            "Mon Mar  4 18:16:41 2024       \n",
            "+---------------------------------------------------------------------------------------+\n",
            "| NVIDIA-SMI 535.104.05             Driver Version: 535.104.05   CUDA Version: 12.2     |\n",
            "|-----------------------------------------+----------------------+----------------------+\n",
            "| GPU  Name                 Persistence-M | Bus-Id        Disp.A | Volatile Uncorr. ECC |\n",
            "| Fan  Temp   Perf          Pwr:Usage/Cap |         Memory-Usage | GPU-Util  Compute M. |\n",
            "|                                         |                      |               MIG M. |\n",
            "|=========================================+======================+======================|\n",
            "|   0  Tesla T4                       Off | 00000000:00:04.0 Off |                    0 |\n",
            "| N/A   56C    P8              11W /  70W |      0MiB / 15360MiB |      0%      Default |\n",
            "|                                         |                      |                  N/A |\n",
            "+-----------------------------------------+----------------------+----------------------+\n",
            "                                                                                         \n",
            "+---------------------------------------------------------------------------------------+\n",
            "| Processes:                                                                            |\n",
            "|  GPU   GI   CI        PID   Type   Process name                            GPU Memory |\n",
            "|        ID   ID                                                             Usage      |\n",
            "|=======================================================================================|\n",
            "|  No running processes found                                                           |\n",
            "+---------------------------------------------------------------------------------------+\n"
          ]
        }
      ],
      "source": [
        "!nvidia-smi"
      ]
    },
    {
      "cell_type": "code",
      "source": [
        "import os\n",
        "HOME = os.getcwd()\n",
        "print(HOME)"
      ],
      "metadata": {
        "colab": {
          "base_uri": "https://localhost:8080/"
        },
        "id": "GAdTOshypcpj",
        "outputId": "f7e6fec1-cb91-41f7-9ccd-2c02a6b4509c"
      },
      "execution_count": 2,
      "outputs": [
        {
          "output_type": "stream",
          "name": "stdout",
          "text": [
            "/content\n"
          ]
        }
      ]
    },
    {
      "cell_type": "code",
      "source": [
        "# Pip install method (recommended)\n",
        "\n",
        "!pip install ultralytics==8.0.196\n",
        "\n",
        "from IPython import display\n",
        "display.clear_output()\n",
        "\n",
        "import ultralytics\n",
        "ultralytics.checks()"
      ],
      "metadata": {
        "colab": {
          "base_uri": "https://localhost:8080/"
        },
        "id": "fBBetP9opsJx",
        "outputId": "795985a0-2ff3-4af9-a42c-bc1dfb0e5143"
      },
      "execution_count": 3,
      "outputs": [
        {
          "output_type": "stream",
          "name": "stderr",
          "text": [
            "Ultralytics YOLOv8.0.196 🚀 Python-3.10.12 torch-2.1.0+cu121 CUDA:0 (Tesla T4, 15102MiB)\n",
            "Setup complete ✅ (2 CPUs, 12.7 GB RAM, 26.3/78.2 GB disk)\n"
          ]
        }
      ]
    },
    {
      "cell_type": "code",
      "source": [
        "!mkdir {HOME}/datasets\n",
        "%cd {HOME}/datasets\n",
        "\n",
        "!pip install roboflow --quiet"
      ],
      "metadata": {
        "colab": {
          "base_uri": "https://localhost:8080/"
        },
        "id": "i9nNnjQgp2m-",
        "outputId": "1b7e5a57-b081-4662-dc0f-cfee275867df"
      },
      "execution_count": 4,
      "outputs": [
        {
          "output_type": "stream",
          "name": "stdout",
          "text": [
            "/content/datasets\n",
            "\u001b[2K     \u001b[90m━━━━━━━━━━━━━━━━━━━━━━━━━━━━━━━━━━━━━━━━\u001b[0m \u001b[32m70.2/70.2 kB\u001b[0m \u001b[31m1.3 MB/s\u001b[0m eta \u001b[36m0:00:00\u001b[0m\n",
            "\u001b[2K     \u001b[90m━━━━━━━━━━━━━━━━━━━━━━━━━━━━━━━━━━━━━━━━\u001b[0m \u001b[32m158.3/158.3 kB\u001b[0m \u001b[31m3.3 MB/s\u001b[0m eta \u001b[36m0:00:00\u001b[0m\n",
            "\u001b[2K     \u001b[90m━━━━━━━━━━━━━━━━━━━━━━━━━━━━━━━━━━━━━━━━\u001b[0m \u001b[32m178.7/178.7 kB\u001b[0m \u001b[31m11.4 MB/s\u001b[0m eta \u001b[36m0:00:00\u001b[0m\n",
            "\u001b[2K     \u001b[90m━━━━━━━━━━━━━━━━━━━━━━━━━━━━━━━━━━━━━━━━\u001b[0m \u001b[32m58.8/58.8 kB\u001b[0m \u001b[31m3.1 MB/s\u001b[0m eta \u001b[36m0:00:00\u001b[0m\n",
            "\u001b[2K     \u001b[90m━━━━━━━━━━━━━━━━━━━━━━━━━━━━━━━━━━━━━━━━\u001b[0m \u001b[32m49.1/49.1 MB\u001b[0m \u001b[31m11.3 MB/s\u001b[0m eta \u001b[36m0:00:00\u001b[0m\n",
            "\u001b[2K     \u001b[90m━━━━━━━━━━━━━━━━━━━━━━━━━━━━━━━━━━━━━━━━\u001b[0m \u001b[32m86.7/86.7 kB\u001b[0m \u001b[31m10.3 MB/s\u001b[0m eta \u001b[36m0:00:00\u001b[0m\n",
            "\u001b[2K     \u001b[90m━━━━━━━━━━━━━━━━━━━━━━━━━━━━━━━━━━━━━━━━\u001b[0m \u001b[32m54.5/54.5 kB\u001b[0m \u001b[31m6.5 MB/s\u001b[0m eta \u001b[36m0:00:00\u001b[0m\n",
            "\u001b[?25h"
          ]
        }
      ]
    },
    {
      "cell_type": "code",
      "source": [
        "!pip install roboflow\n",
        "\n",
        "from roboflow import Roboflow\n",
        "rf = Roboflow(api_key=\"pKFvHhdyqZJ9tClUj6So\")\n",
        "project = rf.workspace(\"soumyajits-workspace\").project(\"trashcan_instance_version\")\n",
        "version = project.version(1)\n",
        "dataset = version.download(\"yolov8\")"
      ],
      "metadata": {
        "colab": {
          "base_uri": "https://localhost:8080/"
        },
        "id": "i80kf4JoqD6w",
        "outputId": "191860c5-c7b3-4a62-ac6a-b991ffff4644"
      },
      "execution_count": 5,
      "outputs": [
        {
          "output_type": "stream",
          "name": "stdout",
          "text": [
            "Requirement already satisfied: roboflow in /usr/local/lib/python3.10/dist-packages (1.1.21)\n",
            "Requirement already satisfied: certifi==2023.7.22 in /usr/local/lib/python3.10/dist-packages (from roboflow) (2023.7.22)\n",
            "Requirement already satisfied: chardet==4.0.0 in /usr/local/lib/python3.10/dist-packages (from roboflow) (4.0.0)\n",
            "Requirement already satisfied: cycler==0.10.0 in /usr/local/lib/python3.10/dist-packages (from roboflow) (0.10.0)\n",
            "Requirement already satisfied: idna==2.10 in /usr/local/lib/python3.10/dist-packages (from roboflow) (2.10)\n",
            "Requirement already satisfied: kiwisolver>=1.3.1 in /usr/local/lib/python3.10/dist-packages (from roboflow) (1.4.5)\n",
            "Requirement already satisfied: matplotlib in /usr/local/lib/python3.10/dist-packages (from roboflow) (3.7.1)\n",
            "Requirement already satisfied: numpy>=1.18.5 in /usr/local/lib/python3.10/dist-packages (from roboflow) (1.25.2)\n",
            "Requirement already satisfied: opencv-python-headless==4.8.0.74 in /usr/local/lib/python3.10/dist-packages (from roboflow) (4.8.0.74)\n",
            "Requirement already satisfied: Pillow>=7.1.2 in /usr/local/lib/python3.10/dist-packages (from roboflow) (9.4.0)\n",
            "Requirement already satisfied: python-dateutil in /usr/local/lib/python3.10/dist-packages (from roboflow) (2.8.2)\n",
            "Requirement already satisfied: python-dotenv in /usr/local/lib/python3.10/dist-packages (from roboflow) (1.0.1)\n",
            "Requirement already satisfied: requests in /usr/local/lib/python3.10/dist-packages (from roboflow) (2.31.0)\n",
            "Requirement already satisfied: six in /usr/local/lib/python3.10/dist-packages (from roboflow) (1.16.0)\n",
            "Requirement already satisfied: supervision in /usr/local/lib/python3.10/dist-packages (from roboflow) (0.18.0)\n",
            "Requirement already satisfied: urllib3>=1.26.6 in /usr/local/lib/python3.10/dist-packages (from roboflow) (2.0.7)\n",
            "Requirement already satisfied: tqdm>=4.41.0 in /usr/local/lib/python3.10/dist-packages (from roboflow) (4.66.2)\n",
            "Requirement already satisfied: PyYAML>=5.3.1 in /usr/local/lib/python3.10/dist-packages (from roboflow) (6.0.1)\n",
            "Requirement already satisfied: requests-toolbelt in /usr/local/lib/python3.10/dist-packages (from roboflow) (1.0.0)\n",
            "Requirement already satisfied: python-magic in /usr/local/lib/python3.10/dist-packages (from roboflow) (0.4.27)\n",
            "Requirement already satisfied: contourpy>=1.0.1 in /usr/local/lib/python3.10/dist-packages (from matplotlib->roboflow) (1.2.0)\n",
            "Requirement already satisfied: fonttools>=4.22.0 in /usr/local/lib/python3.10/dist-packages (from matplotlib->roboflow) (4.49.0)\n",
            "Requirement already satisfied: packaging>=20.0 in /usr/local/lib/python3.10/dist-packages (from matplotlib->roboflow) (23.2)\n",
            "Requirement already satisfied: pyparsing>=2.3.1 in /usr/local/lib/python3.10/dist-packages (from matplotlib->roboflow) (3.1.1)\n",
            "Requirement already satisfied: charset-normalizer<4,>=2 in /usr/local/lib/python3.10/dist-packages (from requests->roboflow) (3.3.2)\n",
            "Requirement already satisfied: defusedxml<0.8.0,>=0.7.1 in /usr/local/lib/python3.10/dist-packages (from supervision->roboflow) (0.7.1)\n",
            "Requirement already satisfied: scipy<2.0.0,>=1.10.0 in /usr/local/lib/python3.10/dist-packages (from supervision->roboflow) (1.11.4)\n",
            "loading Roboflow workspace...\n",
            "loading Roboflow project...\n"
          ]
        },
        {
          "output_type": "stream",
          "name": "stderr",
          "text": [
            "Downloading Dataset Version Zip in trashcan_instance_version-1 to yolov8:: 100%|██████████| 135360/135360 [00:16<00:00, 8422.23it/s]"
          ]
        },
        {
          "output_type": "stream",
          "name": "stdout",
          "text": [
            "\n"
          ]
        },
        {
          "output_type": "stream",
          "name": "stderr",
          "text": [
            "\n",
            "Extracting Dataset Version Zip to trashcan_instance_version-1 in yolov8:: 100%|██████████| 14181/14181 [00:01<00:00, 7505.07it/s]\n"
          ]
        }
      ]
    },
    {
      "cell_type": "code",
      "source": [
        "dataset"
      ],
      "metadata": {
        "colab": {
          "base_uri": "https://localhost:8080/"
        },
        "id": "UVtPlGqVqO0Z",
        "outputId": "1835d1ed-975a-4d52-c400-aab56009fbaa"
      },
      "execution_count": 6,
      "outputs": [
        {
          "output_type": "execute_result",
          "data": {
            "text/plain": [
              "<roboflow.core.dataset.Dataset at 0x784ac2425c90>"
            ]
          },
          "metadata": {},
          "execution_count": 6
        }
      ]
    },
    {
      "cell_type": "markdown",
      "source": [
        "## YOLOv8 Nano"
      ],
      "metadata": {
        "id": "tTnUwlyXqce-"
      }
    },
    {
      "cell_type": "code",
      "source": [
        "%cd {HOME}\n",
        "\n",
        "!yolo task=segment mode=train model=yolov8n-seg.pt data={dataset.location}/data.yaml epochs=10"
      ],
      "metadata": {
        "colab": {
          "base_uri": "https://localhost:8080/"
        },
        "id": "f808MHAxqRLk",
        "outputId": "58668004-d8d0-4151-baba-523040466e58"
      },
      "execution_count": 7,
      "outputs": [
        {
          "output_type": "stream",
          "name": "stdout",
          "text": [
            "/content\n",
            "Downloading https://github.com/ultralytics/assets/releases/download/v0.0.0/yolov8n-seg.pt to 'yolov8n-seg.pt'...\n",
            "100% 6.73M/6.73M [00:00<00:00, 80.6MB/s]\n",
            "New https://pypi.org/project/ultralytics/8.1.23 available 😃 Update with 'pip install -U ultralytics'\n",
            "Ultralytics YOLOv8.0.196 🚀 Python-3.10.12 torch-2.1.0+cu121 CUDA:0 (Tesla T4, 15102MiB)\n",
            "\u001b[34m\u001b[1mengine/trainer: \u001b[0mtask=segment, mode=train, model=yolov8n-seg.pt, data=/content/datasets/trashcan_instance_version-1/data.yaml, epochs=10, patience=50, batch=16, imgsz=640, save=True, save_period=-1, cache=False, device=None, workers=8, project=None, name=None, exist_ok=False, pretrained=True, optimizer=auto, verbose=True, seed=0, deterministic=True, single_cls=False, rect=False, cos_lr=False, close_mosaic=10, resume=False, amp=True, fraction=1.0, profile=False, freeze=None, overlap_mask=True, mask_ratio=4, dropout=0.0, val=True, split=val, save_json=False, save_hybrid=False, conf=None, iou=0.7, max_det=300, half=False, dnn=False, plots=True, source=None, show=False, save_txt=False, save_conf=False, save_crop=False, show_labels=True, show_conf=True, vid_stride=1, stream_buffer=False, line_width=None, visualize=False, augment=False, agnostic_nms=False, classes=None, retina_masks=False, boxes=True, format=torchscript, keras=False, optimize=False, int8=False, dynamic=False, simplify=False, opset=None, workspace=4, nms=False, lr0=0.01, lrf=0.01, momentum=0.937, weight_decay=0.0005, warmup_epochs=3.0, warmup_momentum=0.8, warmup_bias_lr=0.1, box=7.5, cls=0.5, dfl=1.5, pose=12.0, kobj=1.0, label_smoothing=0.0, nbs=64, hsv_h=0.015, hsv_s=0.7, hsv_v=0.4, degrees=0.0, translate=0.1, scale=0.5, shear=0.0, perspective=0.0, flipud=0.0, fliplr=0.5, mosaic=1.0, mixup=0.0, copy_paste=0.0, cfg=None, tracker=botsort.yaml, save_dir=runs/segment/train\n",
            "Downloading https://ultralytics.com/assets/Arial.ttf to '/root/.config/Ultralytics/Arial.ttf'...\n",
            "100% 755k/755k [00:00<00:00, 17.1MB/s]\n",
            "2024-03-04 18:17:48.466254: E external/local_xla/xla/stream_executor/cuda/cuda_dnn.cc:9261] Unable to register cuDNN factory: Attempting to register factory for plugin cuDNN when one has already been registered\n",
            "2024-03-04 18:17:48.466313: E external/local_xla/xla/stream_executor/cuda/cuda_fft.cc:607] Unable to register cuFFT factory: Attempting to register factory for plugin cuFFT when one has already been registered\n",
            "2024-03-04 18:17:48.468343: E external/local_xla/xla/stream_executor/cuda/cuda_blas.cc:1515] Unable to register cuBLAS factory: Attempting to register factory for plugin cuBLAS when one has already been registered\n",
            "Overriding model.yaml nc=80 with nc=22\n",
            "\n",
            "                   from  n    params  module                                       arguments                     \n",
            "  0                  -1  1       464  ultralytics.nn.modules.conv.Conv             [3, 16, 3, 2]                 \n",
            "  1                  -1  1      4672  ultralytics.nn.modules.conv.Conv             [16, 32, 3, 2]                \n",
            "  2                  -1  1      7360  ultralytics.nn.modules.block.C2f             [32, 32, 1, True]             \n",
            "  3                  -1  1     18560  ultralytics.nn.modules.conv.Conv             [32, 64, 3, 2]                \n",
            "  4                  -1  2     49664  ultralytics.nn.modules.block.C2f             [64, 64, 2, True]             \n",
            "  5                  -1  1     73984  ultralytics.nn.modules.conv.Conv             [64, 128, 3, 2]               \n",
            "  6                  -1  2    197632  ultralytics.nn.modules.block.C2f             [128, 128, 2, True]           \n",
            "  7                  -1  1    295424  ultralytics.nn.modules.conv.Conv             [128, 256, 3, 2]              \n",
            "  8                  -1  1    460288  ultralytics.nn.modules.block.C2f             [256, 256, 1, True]           \n",
            "  9                  -1  1    164608  ultralytics.nn.modules.block.SPPF            [256, 256, 5]                 \n",
            " 10                  -1  1         0  torch.nn.modules.upsampling.Upsample         [None, 2, 'nearest']          \n",
            " 11             [-1, 6]  1         0  ultralytics.nn.modules.conv.Concat           [1]                           \n",
            " 12                  -1  1    148224  ultralytics.nn.modules.block.C2f             [384, 128, 1]                 \n",
            " 13                  -1  1         0  torch.nn.modules.upsampling.Upsample         [None, 2, 'nearest']          \n",
            " 14             [-1, 4]  1         0  ultralytics.nn.modules.conv.Concat           [1]                           \n",
            " 15                  -1  1     37248  ultralytics.nn.modules.block.C2f             [192, 64, 1]                  \n",
            " 16                  -1  1     36992  ultralytics.nn.modules.conv.Conv             [64, 64, 3, 2]                \n",
            " 17            [-1, 12]  1         0  ultralytics.nn.modules.conv.Concat           [1]                           \n",
            " 18                  -1  1    123648  ultralytics.nn.modules.block.C2f             [192, 128, 1]                 \n",
            " 19                  -1  1    147712  ultralytics.nn.modules.conv.Conv             [128, 128, 3, 2]              \n",
            " 20             [-1, 9]  1         0  ultralytics.nn.modules.conv.Concat           [1]                           \n",
            " 21                  -1  1    493056  ultralytics.nn.modules.block.C2f             [384, 256, 1]                 \n",
            " 22        [15, 18, 21]  1   1008370  ultralytics.nn.modules.head.Segment          [22, 32, 64, [64, 128, 256]]  \n",
            "YOLOv8n-seg summary: 261 layers, 3267906 parameters, 3267890 gradients, 12.1 GFLOPs\n",
            "\n",
            "Transferred 381/417 items from pretrained weights\n",
            "\u001b[34m\u001b[1mTensorBoard: \u001b[0mStart with 'tensorboard --logdir runs/segment/train', view at http://localhost:6006/\n",
            "Freezing layer 'model.22.dfl.conv.weight'\n",
            "\u001b[34m\u001b[1mAMP: \u001b[0mrunning Automatic Mixed Precision (AMP) checks with YOLOv8n...\n",
            "Downloading https://github.com/ultralytics/assets/releases/download/v0.0.0/yolov8n.pt to 'yolov8n.pt'...\n",
            "100% 6.23M/6.23M [00:00<00:00, 79.2MB/s]\n",
            "WARNING ⚠️ NMS time limit 0.550s exceeded\n",
            "\u001b[34m\u001b[1mAMP: \u001b[0mchecks passed ✅\n",
            "\u001b[34m\u001b[1mtrain: \u001b[0mScanning /content/datasets/trashcan_instance_version-1/train/labels... 5939 images, 129 backgrounds, 0 corrupt: 100% 5939/5939 [00:03<00:00, 1716.62it/s]\n",
            "\u001b[34m\u001b[1mtrain: \u001b[0mNew cache created: /content/datasets/trashcan_instance_version-1/train/labels.cache\n",
            "\u001b[34m\u001b[1malbumentations: \u001b[0mBlur(p=0.01, blur_limit=(3, 7)), MedianBlur(p=0.01, blur_limit=(3, 7)), ToGray(p=0.01), CLAHE(p=0.01, clip_limit=(1, 4.0), tile_grid_size=(8, 8))\n",
            "\u001b[34m\u001b[1mval: \u001b[0mScanning /content/datasets/trashcan_instance_version-1/valid/labels... 1147 images, 0 backgrounds, 0 corrupt: 100% 1147/1147 [00:01<00:00, 700.70it/s]\n",
            "\u001b[34m\u001b[1mval: \u001b[0mWARNING ⚠️ /content/datasets/trashcan_instance_version-1/valid/images/vid_000143_frame0000013_jpg.rf.e351dc11bccc411ba08436ed442d2218.jpg: 1 duplicate labels removed\n",
            "\u001b[34m\u001b[1mval: \u001b[0mNew cache created: /content/datasets/trashcan_instance_version-1/valid/labels.cache\n",
            "Plotting labels to runs/segment/train/labels.jpg... \n",
            "\u001b[34m\u001b[1moptimizer:\u001b[0m 'optimizer=auto' found, ignoring 'lr0=0.01' and 'momentum=0.937' and determining best 'optimizer', 'lr0' and 'momentum' automatically... \n",
            "\u001b[34m\u001b[1moptimizer:\u001b[0m AdamW(lr=0.000385, momentum=0.9) with parameter groups 66 weight(decay=0.0), 77 weight(decay=0.0005), 76 bias(decay=0.0)\n",
            "Image sizes 640 train, 640 val\n",
            "Using 2 dataloader workers\n",
            "Logging results to \u001b[1mruns/segment/train\u001b[0m\n",
            "Starting training for 10 epochs...\n",
            "Closing dataloader mosaic\n",
            "\u001b[34m\u001b[1malbumentations: \u001b[0mBlur(p=0.01, blur_limit=(3, 7)), MedianBlur(p=0.01, blur_limit=(3, 7)), ToGray(p=0.01), CLAHE(p=0.01, clip_limit=(1, 4.0), tile_grid_size=(8, 8))\n",
            "\n",
            "      Epoch    GPU_mem   box_loss   seg_loss   cls_loss   dfl_loss  Instances       Size\n",
            "       1/10      2.86G      1.386      2.759      4.128      1.393          3        640: 100% 372/372 [02:20<00:00,  2.64it/s]\n",
            "                 Class     Images  Instances      Box(P          R      mAP50  mAP50-95)     Mask(P          R      mAP50  mAP50-95): 100% 36/36 [00:14<00:00,  2.54it/s]\n",
            "                   all       1147       2614      0.647       0.15      0.114     0.0688      0.636      0.135     0.0964     0.0485\n",
            "\n",
            "      Epoch    GPU_mem   box_loss   seg_loss   cls_loss   dfl_loss  Instances       Size\n",
            "       2/10       2.9G      1.255      2.267      3.048      1.303          4        640: 100% 372/372 [02:10<00:00,  2.85it/s]\n",
            "                 Class     Images  Instances      Box(P          R      mAP50  mAP50-95)     Mask(P          R      mAP50  mAP50-95): 100% 36/36 [00:13<00:00,  2.69it/s]\n",
            "                   all       1147       2614      0.537      0.178      0.169       0.11      0.555      0.165      0.165     0.0874\n",
            "\n",
            "      Epoch    GPU_mem   box_loss   seg_loss   cls_loss   dfl_loss  Instances       Size\n",
            "       3/10      2.88G      1.206      2.139      2.561      1.279          4        640: 100% 372/372 [02:10<00:00,  2.85it/s]\n",
            "                 Class     Images  Instances      Box(P          R      mAP50  mAP50-95)     Mask(P          R      mAP50  mAP50-95): 100% 36/36 [00:13<00:00,  2.65it/s]\n",
            "                   all       1147       2614      0.432      0.268       0.22      0.147      0.442      0.262      0.216       0.12\n",
            "\n",
            "      Epoch    GPU_mem   box_loss   seg_loss   cls_loss   dfl_loss  Instances       Size\n",
            "       4/10      2.88G      1.156      2.045      2.159      1.239          3        640: 100% 372/372 [02:09<00:00,  2.88it/s]\n",
            "                 Class     Images  Instances      Box(P          R      mAP50  mAP50-95)     Mask(P          R      mAP50  mAP50-95): 100% 36/36 [00:13<00:00,  2.68it/s]\n",
            "                   all       1147       2614      0.476      0.272      0.265      0.177      0.462      0.258       0.25      0.136\n",
            "\n",
            "      Epoch    GPU_mem   box_loss   seg_loss   cls_loss   dfl_loss  Instances       Size\n",
            "       5/10      2.88G      1.116      1.951      1.888      1.207          3        640: 100% 372/372 [02:08<00:00,  2.89it/s]\n",
            "                 Class     Images  Instances      Box(P          R      mAP50  mAP50-95)     Mask(P          R      mAP50  mAP50-95): 100% 36/36 [00:13<00:00,  2.65it/s]\n",
            "                   all       1147       2614      0.607      0.283      0.308      0.206      0.602      0.275      0.295      0.166\n",
            "\n",
            "      Epoch    GPU_mem   box_loss   seg_loss   cls_loss   dfl_loss  Instances       Size\n",
            "       6/10      2.89G      1.076       1.88      1.649      1.179          5        640: 100% 372/372 [02:08<00:00,  2.89it/s]\n",
            "                 Class     Images  Instances      Box(P          R      mAP50  mAP50-95)     Mask(P          R      mAP50  mAP50-95): 100% 36/36 [00:13<00:00,  2.65it/s]\n",
            "                   all       1147       2614      0.393      0.362      0.346      0.234      0.423      0.316      0.329      0.186\n",
            "\n",
            "      Epoch    GPU_mem   box_loss   seg_loss   cls_loss   dfl_loss  Instances       Size\n",
            "       7/10      2.93G      1.023      1.798      1.451      1.148          4        640: 100% 372/372 [02:09<00:00,  2.88it/s]\n",
            "                 Class     Images  Instances      Box(P          R      mAP50  mAP50-95)     Mask(P          R      mAP50  mAP50-95): 100% 36/36 [00:13<00:00,  2.66it/s]\n",
            "                   all       1147       2614      0.612      0.375        0.4      0.275      0.605      0.367       0.38      0.219\n",
            "\n",
            "      Epoch    GPU_mem   box_loss   seg_loss   cls_loss   dfl_loss  Instances       Size\n",
            "       8/10       2.8G     0.9823      1.732      1.285      1.118          5        640: 100% 372/372 [02:09<00:00,  2.87it/s]\n",
            "                 Class     Images  Instances      Box(P          R      mAP50  mAP50-95)     Mask(P          R      mAP50  mAP50-95): 100% 36/36 [00:13<00:00,  2.69it/s]\n",
            "                   all       1147       2614      0.625      0.415      0.434      0.303      0.612      0.398      0.415      0.237\n",
            "\n",
            "      Epoch    GPU_mem   box_loss   seg_loss   cls_loss   dfl_loss  Instances       Size\n",
            "       9/10      2.78G     0.9396      1.657      1.188      1.094          7        640: 100% 372/372 [02:10<00:00,  2.86it/s]\n",
            "                 Class     Images  Instances      Box(P          R      mAP50  mAP50-95)     Mask(P          R      mAP50  mAP50-95): 100% 36/36 [00:13<00:00,  2.67it/s]\n",
            "                   all       1147       2614      0.509      0.469      0.461      0.323      0.587      0.414      0.441      0.251\n",
            "\n",
            "      Epoch    GPU_mem   box_loss   seg_loss   cls_loss   dfl_loss  Instances       Size\n",
            "      10/10       2.9G     0.9073      1.611       1.08      1.075          5        640: 100% 372/372 [02:09<00:00,  2.88it/s]\n",
            "                 Class     Images  Instances      Box(P          R      mAP50  mAP50-95)     Mask(P          R      mAP50  mAP50-95): 100% 36/36 [00:13<00:00,  2.65it/s]\n",
            "                   all       1147       2614       0.65      0.477      0.494      0.344      0.596      0.445      0.464      0.266\n",
            "\n",
            "10 epochs completed in 0.404 hours.\n",
            "Optimizer stripped from runs/segment/train/weights/last.pt, 6.8MB\n",
            "Optimizer stripped from runs/segment/train/weights/best.pt, 6.8MB\n",
            "\n",
            "Validating runs/segment/train/weights/best.pt...\n",
            "Ultralytics YOLOv8.0.196 🚀 Python-3.10.12 torch-2.1.0+cu121 CUDA:0 (Tesla T4, 15102MiB)\n",
            "YOLOv8n-seg summary (fused): 195 layers, 3262354 parameters, 0 gradients, 12.0 GFLOPs\n",
            "                 Class     Images  Instances      Box(P          R      mAP50  mAP50-95)     Mask(P          R      mAP50  mAP50-95): 100% 36/36 [00:16<00:00,  2.19it/s]\n",
            "                   all       1147       2614      0.643       0.48      0.494      0.344      0.593      0.446      0.464      0.266\n",
            "           animal_crab       1147         63     0.0754      0.333     0.0824     0.0351     0.0703      0.302     0.0759     0.0239\n",
            "            animal_eel       1147         84      0.446      0.623      0.499      0.258      0.451      0.607      0.484      0.178\n",
            "            animal_etc       1147         65      0.848      0.292      0.386      0.222      0.904      0.308      0.399      0.224\n",
            "           animal_fish       1147        153       0.44      0.301       0.38      0.194      0.437      0.281      0.335      0.127\n",
            "         animal_shells       1147         61      0.487      0.541      0.505      0.288      0.504      0.541      0.505      0.249\n",
            "       animal_starfish       1147        136      0.554      0.575      0.518      0.211       0.51      0.522      0.419       0.11\n",
            "                 plant       1147        102       0.72       0.48      0.515      0.305      0.638      0.422      0.448      0.251\n",
            "                   rov       1147        704      0.739      0.848       0.86      0.686      0.755      0.854      0.873      0.618\n",
            "             trash_bag       1147        181       0.54       0.58      0.625      0.464      0.542      0.564      0.626      0.347\n",
            "          trash_bottle       1147         26      0.744      0.385      0.532      0.487      0.756      0.385      0.532      0.402\n",
            "          trash_branch       1147         68      0.796       0.75      0.766      0.654      0.794      0.737      0.767      0.417\n",
            "             trash_can       1147         93       0.72      0.609      0.658      0.447      0.716      0.596      0.658      0.394\n",
            "        trash_clothing       1147         17      0.725      0.294        0.4      0.363      0.729      0.294        0.4      0.294\n",
            "       trash_container       1147        103      0.756      0.738      0.739      0.585      0.756      0.728      0.727      0.535\n",
            "             trash_cup       1147         12      0.638      0.153      0.316      0.231      0.602      0.135      0.316      0.178\n",
            "             trash_net       1147         33      0.508      0.333      0.348      0.177      0.472      0.303      0.319      0.153\n",
            "            trash_pipe       1147         45      0.332      0.867       0.72      0.519      0.197      0.511      0.493      0.235\n",
            "            trash_rope       1147         31      0.844     0.0645      0.161     0.0723          0          0     0.0212    0.00708\n",
            "   trash_snack_wrapper       1147         17      0.783      0.176      0.208       0.18      0.793      0.176      0.208      0.169\n",
            "            trash_tarp       1147         31          1      0.253      0.263      0.194          1      0.253      0.263      0.147\n",
            "trash_unknown_instance       1147        554      0.603       0.43      0.503      0.302      0.619      0.426      0.499      0.251\n",
            "        trash_wreckage       1147         35      0.843      0.923      0.876      0.692       0.79       0.86      0.836      0.551\n",
            "Speed: 0.1ms preprocess, 1.8ms inference, 0.0ms loss, 1.4ms postprocess per image\n",
            "Results saved to \u001b[1mruns/segment/train\u001b[0m\n",
            "💡 Learn more at https://docs.ultralytics.com/modes/train\n"
          ]
        }
      ]
    },
    {
      "cell_type": "markdown",
      "source": [
        "## YOLOv8 Small"
      ],
      "metadata": {
        "id": "pKS4P2N35e_X"
      }
    },
    {
      "cell_type": "code",
      "source": [
        "!yolo task=segment mode=train model=yolov8s-seg.pt data={dataset.location}/data.yaml epochs=10"
      ],
      "metadata": {
        "colab": {
          "base_uri": "https://localhost:8080/"
        },
        "id": "MqMa3bGxqg_G",
        "outputId": "b2aa43a9-610b-4dbe-9486-d1abb1050532"
      },
      "execution_count": 8,
      "outputs": [
        {
          "output_type": "stream",
          "name": "stdout",
          "text": [
            "/content\n",
            "Downloading https://github.com/ultralytics/assets/releases/download/v0.0.0/yolov8s-seg.pt to 'yolov8s-seg.pt'...\n",
            "100% 22.8M/22.8M [00:00<00:00, 151MB/s]\n",
            "New https://pypi.org/project/ultralytics/8.1.23 available 😃 Update with 'pip install -U ultralytics'\n",
            "Ultralytics YOLOv8.0.196 🚀 Python-3.10.12 torch-2.1.0+cu121 CUDA:0 (Tesla T4, 15102MiB)\n",
            "\u001b[34m\u001b[1mengine/trainer: \u001b[0mtask=segment, mode=train, model=yolov8s-seg.pt, data=/content/datasets/trashcan_instance_version-1/data.yaml, epochs=10, patience=50, batch=16, imgsz=640, save=True, save_period=-1, cache=False, device=None, workers=8, project=None, name=None, exist_ok=False, pretrained=True, optimizer=auto, verbose=True, seed=0, deterministic=True, single_cls=False, rect=False, cos_lr=False, close_mosaic=10, resume=False, amp=True, fraction=1.0, profile=False, freeze=None, overlap_mask=True, mask_ratio=4, dropout=0.0, val=True, split=val, save_json=False, save_hybrid=False, conf=None, iou=0.7, max_det=300, half=False, dnn=False, plots=True, source=None, show=False, save_txt=False, save_conf=False, save_crop=False, show_labels=True, show_conf=True, vid_stride=1, stream_buffer=False, line_width=None, visualize=False, augment=False, agnostic_nms=False, classes=None, retina_masks=False, boxes=True, format=torchscript, keras=False, optimize=False, int8=False, dynamic=False, simplify=False, opset=None, workspace=4, nms=False, lr0=0.01, lrf=0.01, momentum=0.937, weight_decay=0.0005, warmup_epochs=3.0, warmup_momentum=0.8, warmup_bias_lr=0.1, box=7.5, cls=0.5, dfl=1.5, pose=12.0, kobj=1.0, label_smoothing=0.0, nbs=64, hsv_h=0.015, hsv_s=0.7, hsv_v=0.4, degrees=0.0, translate=0.1, scale=0.5, shear=0.0, perspective=0.0, flipud=0.0, fliplr=0.5, mosaic=1.0, mixup=0.0, copy_paste=0.0, cfg=None, tracker=botsort.yaml, save_dir=runs/segment/train2\n",
            "2024-03-04 18:42:59.371118: E external/local_xla/xla/stream_executor/cuda/cuda_dnn.cc:9261] Unable to register cuDNN factory: Attempting to register factory for plugin cuDNN when one has already been registered\n",
            "2024-03-04 18:42:59.371173: E external/local_xla/xla/stream_executor/cuda/cuda_fft.cc:607] Unable to register cuFFT factory: Attempting to register factory for plugin cuFFT when one has already been registered\n",
            "2024-03-04 18:42:59.372556: E external/local_xla/xla/stream_executor/cuda/cuda_blas.cc:1515] Unable to register cuBLAS factory: Attempting to register factory for plugin cuBLAS when one has already been registered\n",
            "Overriding model.yaml nc=80 with nc=22\n",
            "\n",
            "                   from  n    params  module                                       arguments                     \n",
            "  0                  -1  1       928  ultralytics.nn.modules.conv.Conv             [3, 32, 3, 2]                 \n",
            "  1                  -1  1     18560  ultralytics.nn.modules.conv.Conv             [32, 64, 3, 2]                \n",
            "  2                  -1  1     29056  ultralytics.nn.modules.block.C2f             [64, 64, 1, True]             \n",
            "  3                  -1  1     73984  ultralytics.nn.modules.conv.Conv             [64, 128, 3, 2]               \n",
            "  4                  -1  2    197632  ultralytics.nn.modules.block.C2f             [128, 128, 2, True]           \n",
            "  5                  -1  1    295424  ultralytics.nn.modules.conv.Conv             [128, 256, 3, 2]              \n",
            "  6                  -1  2    788480  ultralytics.nn.modules.block.C2f             [256, 256, 2, True]           \n",
            "  7                  -1  1   1180672  ultralytics.nn.modules.conv.Conv             [256, 512, 3, 2]              \n",
            "  8                  -1  1   1838080  ultralytics.nn.modules.block.C2f             [512, 512, 1, True]           \n",
            "  9                  -1  1    656896  ultralytics.nn.modules.block.SPPF            [512, 512, 5]                 \n",
            " 10                  -1  1         0  torch.nn.modules.upsampling.Upsample         [None, 2, 'nearest']          \n",
            " 11             [-1, 6]  1         0  ultralytics.nn.modules.conv.Concat           [1]                           \n",
            " 12                  -1  1    591360  ultralytics.nn.modules.block.C2f             [768, 256, 1]                 \n",
            " 13                  -1  1         0  torch.nn.modules.upsampling.Upsample         [None, 2, 'nearest']          \n",
            " 14             [-1, 4]  1         0  ultralytics.nn.modules.conv.Concat           [1]                           \n",
            " 15                  -1  1    148224  ultralytics.nn.modules.block.C2f             [384, 128, 1]                 \n",
            " 16                  -1  1    147712  ultralytics.nn.modules.conv.Conv             [128, 128, 3, 2]              \n",
            " 17            [-1, 12]  1         0  ultralytics.nn.modules.conv.Concat           [1]                           \n",
            " 18                  -1  1    493056  ultralytics.nn.modules.block.C2f             [384, 256, 1]                 \n",
            " 19                  -1  1    590336  ultralytics.nn.modules.conv.Conv             [256, 256, 3, 2]              \n",
            " 20             [-1, 9]  1         0  ultralytics.nn.modules.conv.Concat           [1]                           \n",
            " 21                  -1  1   1969152  ultralytics.nn.modules.block.C2f             [768, 512, 1]                 \n",
            " 22        [15, 18, 21]  1   2779058  ultralytics.nn.modules.head.Segment          [22, 32, 128, [128, 256, 512]]\n",
            "YOLOv8s-seg summary: 261 layers, 11798610 parameters, 11798594 gradients, 42.7 GFLOPs\n",
            "\n",
            "Transferred 411/417 items from pretrained weights\n",
            "\u001b[34m\u001b[1mTensorBoard: \u001b[0mStart with 'tensorboard --logdir runs/segment/train2', view at http://localhost:6006/\n",
            "Freezing layer 'model.22.dfl.conv.weight'\n",
            "\u001b[34m\u001b[1mAMP: \u001b[0mrunning Automatic Mixed Precision (AMP) checks with YOLOv8n...\n",
            "WARNING ⚠️ NMS time limit 0.550s exceeded\n",
            "\u001b[34m\u001b[1mAMP: \u001b[0mchecks passed ✅\n",
            "\u001b[34m\u001b[1mtrain: \u001b[0mScanning /content/datasets/trashcan_instance_version-1/train/labels.cache... 5939 images, 129 backgrounds, 0 corrupt: 100% 5939/5939 [00:00<?, ?it/s]\n",
            "\u001b[34m\u001b[1malbumentations: \u001b[0mBlur(p=0.01, blur_limit=(3, 7)), MedianBlur(p=0.01, blur_limit=(3, 7)), ToGray(p=0.01), CLAHE(p=0.01, clip_limit=(1, 4.0), tile_grid_size=(8, 8))\n",
            "\u001b[34m\u001b[1mval: \u001b[0mScanning /content/datasets/trashcan_instance_version-1/valid/labels.cache... 1147 images, 0 backgrounds, 0 corrupt: 100% 1147/1147 [00:00<?, ?it/s]\n",
            "\u001b[34m\u001b[1mval: \u001b[0mWARNING ⚠️ /content/datasets/trashcan_instance_version-1/valid/images/vid_000143_frame0000013_jpg.rf.e351dc11bccc411ba08436ed442d2218.jpg: 1 duplicate labels removed\n",
            "Plotting labels to runs/segment/train2/labels.jpg... \n",
            "\u001b[34m\u001b[1moptimizer:\u001b[0m 'optimizer=auto' found, ignoring 'lr0=0.01' and 'momentum=0.937' and determining best 'optimizer', 'lr0' and 'momentum' automatically... \n",
            "\u001b[34m\u001b[1moptimizer:\u001b[0m AdamW(lr=0.000385, momentum=0.9) with parameter groups 66 weight(decay=0.0), 77 weight(decay=0.0005), 76 bias(decay=0.0)\n",
            "Image sizes 640 train, 640 val\n",
            "Using 2 dataloader workers\n",
            "Logging results to \u001b[1mruns/segment/train2\u001b[0m\n",
            "Starting training for 10 epochs...\n",
            "Closing dataloader mosaic\n",
            "\u001b[34m\u001b[1malbumentations: \u001b[0mBlur(p=0.01, blur_limit=(3, 7)), MedianBlur(p=0.01, blur_limit=(3, 7)), ToGray(p=0.01), CLAHE(p=0.01, clip_limit=(1, 4.0), tile_grid_size=(8, 8))\n",
            "\n",
            "      Epoch    GPU_mem   box_loss   seg_loss   cls_loss   dfl_loss  Instances       Size\n",
            "       1/10         5G       1.31      2.549      3.755      1.351          3        640: 100% 372/372 [02:40<00:00,  2.32it/s]\n",
            "                 Class     Images  Instances      Box(P          R      mAP50  mAP50-95)     Mask(P          R      mAP50  mAP50-95): 100% 36/36 [00:15<00:00,  2.25it/s]\n",
            "                   all       1147       2614       0.39      0.214      0.168      0.114      0.467      0.185      0.159     0.0922\n",
            "\n",
            "      Epoch    GPU_mem   box_loss   seg_loss   cls_loss   dfl_loss  Instances       Size\n",
            "       2/10      5.09G      1.222      2.153      2.036      1.288          4        640: 100% 372/372 [02:32<00:00,  2.43it/s]\n",
            "                 Class     Images  Instances      Box(P          R      mAP50  mAP50-95)     Mask(P          R      mAP50  mAP50-95): 100% 36/36 [00:15<00:00,  2.35it/s]\n",
            "                   all       1147       2614      0.374      0.245      0.224      0.135      0.358      0.254      0.212      0.109\n",
            "\n",
            "      Epoch    GPU_mem   box_loss   seg_loss   cls_loss   dfl_loss  Instances       Size\n",
            "       3/10      5.09G       1.19       2.04      1.747      1.268          4        640: 100% 372/372 [02:33<00:00,  2.42it/s]\n",
            "                 Class     Images  Instances      Box(P          R      mAP50  mAP50-95)     Mask(P          R      mAP50  mAP50-95): 100% 36/36 [00:15<00:00,  2.36it/s]\n",
            "                   all       1147       2614      0.418      0.304      0.295      0.196      0.459      0.293       0.28      0.161\n",
            "\n",
            "      Epoch    GPU_mem   box_loss   seg_loss   cls_loss   dfl_loss  Instances       Size\n",
            "       4/10      5.08G      1.131      1.949      1.501       1.23          3        640: 100% 372/372 [02:29<00:00,  2.49it/s]\n",
            "                 Class     Images  Instances      Box(P          R      mAP50  mAP50-95)     Mask(P          R      mAP50  mAP50-95): 100% 36/36 [00:14<00:00,  2.48it/s]\n",
            "                   all       1147       2614       0.55      0.312      0.362       0.24      0.555      0.296      0.344      0.188\n",
            "\n",
            "      Epoch    GPU_mem   box_loss   seg_loss   cls_loss   dfl_loss  Instances       Size\n",
            "       5/10      5.09G      1.087      1.858       1.31      1.193          3        640: 100% 372/372 [02:29<00:00,  2.49it/s]\n",
            "                 Class     Images  Instances      Box(P          R      mAP50  mAP50-95)     Mask(P          R      mAP50  mAP50-95): 100% 36/36 [00:14<00:00,  2.44it/s]\n",
            "                   all       1147       2614       0.49       0.39      0.399      0.259      0.502      0.359      0.369        0.2\n",
            "\n",
            "      Epoch    GPU_mem   box_loss   seg_loss   cls_loss   dfl_loss  Instances       Size\n",
            "       6/10      5.13G      1.018      1.754      1.141      1.154          5        640: 100% 372/372 [02:28<00:00,  2.50it/s]\n",
            "                 Class     Images  Instances      Box(P          R      mAP50  mAP50-95)     Mask(P          R      mAP50  mAP50-95): 100% 36/36 [00:14<00:00,  2.49it/s]\n",
            "                   all       1147       2614      0.566      0.407      0.453      0.313      0.542      0.405      0.439      0.251\n",
            "\n",
            "      Epoch    GPU_mem   box_loss   seg_loss   cls_loss   dfl_loss  Instances       Size\n",
            "       7/10      5.14G      0.976      1.669     0.9999      1.126          4        640: 100% 372/372 [02:28<00:00,  2.50it/s]\n",
            "                 Class     Images  Instances      Box(P          R      mAP50  mAP50-95)     Mask(P          R      mAP50  mAP50-95): 100% 36/36 [00:14<00:00,  2.44it/s]\n",
            "                   all       1147       2614      0.666      0.454      0.521      0.354      0.598      0.456      0.492      0.276\n",
            "\n",
            "      Epoch    GPU_mem   box_loss   seg_loss   cls_loss   dfl_loss  Instances       Size\n",
            "       8/10      5.15G     0.9256      1.608     0.8789      1.093          5        640: 100% 372/372 [02:30<00:00,  2.46it/s]\n",
            "                 Class     Images  Instances      Box(P          R      mAP50  mAP50-95)     Mask(P          R      mAP50  mAP50-95): 100% 36/36 [00:14<00:00,  2.51it/s]\n",
            "                   all       1147       2614      0.635      0.494      0.523      0.357      0.675      0.472      0.508       0.29\n",
            "\n",
            "      Epoch    GPU_mem   box_loss   seg_loss   cls_loss   dfl_loss  Instances       Size\n",
            "       9/10      5.15G     0.8757      1.511     0.7887      1.067          7        640: 100% 372/372 [02:31<00:00,  2.46it/s]\n",
            "                 Class     Images  Instances      Box(P          R      mAP50  mAP50-95)     Mask(P          R      mAP50  mAP50-95): 100% 36/36 [00:14<00:00,  2.46it/s]\n",
            "                   all       1147       2614      0.694      0.516      0.574      0.398      0.671      0.497       0.55      0.317\n",
            "\n",
            "      Epoch    GPU_mem   box_loss   seg_loss   cls_loss   dfl_loss  Instances       Size\n",
            "      10/10      5.11G     0.8286      1.453     0.6946      1.039          5        640: 100% 372/372 [02:30<00:00,  2.47it/s]\n",
            "                 Class     Images  Instances      Box(P          R      mAP50  mAP50-95)     Mask(P          R      mAP50  mAP50-95): 100% 36/36 [00:14<00:00,  2.47it/s]\n",
            "                   all       1147       2614      0.677      0.559      0.601      0.421      0.686      0.547       0.58       0.33\n",
            "\n",
            "10 epochs completed in 0.468 hours.\n",
            "Optimizer stripped from runs/segment/train2/weights/last.pt, 23.9MB\n",
            "Optimizer stripped from runs/segment/train2/weights/best.pt, 23.9MB\n",
            "\n",
            "Validating runs/segment/train2/weights/best.pt...\n",
            "Ultralytics YOLOv8.0.196 🚀 Python-3.10.12 torch-2.1.0+cu121 CUDA:0 (Tesla T4, 15102MiB)\n",
            "YOLOv8s-seg summary (fused): 195 layers, 11788114 parameters, 0 gradients, 42.5 GFLOPs\n",
            "                 Class     Images  Instances      Box(P          R      mAP50  mAP50-95)     Mask(P          R      mAP50  mAP50-95): 100% 36/36 [00:18<00:00,  1.94it/s]\n",
            "                   all       1147       2614      0.678      0.559      0.602      0.422      0.679       0.55       0.58       0.33\n",
            "           animal_crab       1147         63      0.183      0.492      0.293      0.139      0.177       0.46      0.267     0.0994\n",
            "            animal_eel       1147         84      0.611      0.542      0.549      0.322      0.596      0.524      0.542       0.22\n",
            "            animal_etc       1147         65      0.758      0.434      0.484      0.315      0.784      0.447      0.505        0.3\n",
            "           animal_fish       1147        153      0.658      0.281      0.435      0.221      0.683      0.275      0.434      0.163\n",
            "         animal_shells       1147         61      0.486      0.525      0.479       0.28      0.492      0.525      0.479      0.227\n",
            "       animal_starfish       1147        136      0.695      0.669      0.685      0.305      0.651      0.625      0.597      0.188\n",
            "                 plant       1147        102      0.635        0.5      0.592      0.366      0.612      0.471       0.55      0.295\n",
            "                   rov       1147        704      0.744      0.881      0.888      0.729      0.751      0.883      0.891      0.664\n",
            "             trash_bag       1147        181      0.668      0.707      0.694      0.479      0.667      0.696      0.693       0.38\n",
            "          trash_bottle       1147         26      0.776      0.692      0.665      0.557      0.779      0.692      0.665       0.46\n",
            "          trash_branch       1147         68      0.817      0.721      0.779      0.625      0.819      0.721      0.767      0.355\n",
            "             trash_can       1147         93      0.863      0.748      0.846      0.615      0.863      0.743      0.846      0.515\n",
            "        trash_clothing       1147         17      0.626      0.294      0.332        0.3      0.636      0.294      0.332      0.237\n",
            "       trash_container       1147        103       0.79      0.748      0.815      0.661      0.792      0.748      0.809        0.6\n",
            "             trash_cup       1147         12          1      0.332      0.801      0.598          1       0.33      0.801      0.511\n",
            "             trash_net       1147         33      0.672      0.622      0.576      0.395      0.692      0.636      0.601      0.361\n",
            "            trash_pipe       1147         45      0.743      0.511      0.688      0.488      0.785      0.533      0.516      0.207\n",
            "            trash_rope       1147         31      0.472      0.419      0.367       0.16       0.42      0.355      0.234      0.107\n",
            "   trash_snack_wrapper       1147         17      0.843      0.294      0.383      0.336      0.875      0.294      0.383      0.269\n",
            "            trash_tarp       1147         31      0.364       0.29        0.3       0.24      0.379       0.29        0.3      0.176\n",
            "trash_unknown_instance       1147        554      0.661      0.605      0.634      0.406      0.657       0.59      0.618      0.344\n",
            "        trash_wreckage       1147         35      0.842          1      0.948      0.743       0.82      0.971      0.923      0.579\n",
            "Speed: 0.2ms preprocess, 3.6ms inference, 0.0ms loss, 1.8ms postprocess per image\n",
            "Results saved to \u001b[1mruns/segment/train2\u001b[0m\n",
            "💡 Learn more at https://docs.ultralytics.com/modes/train\n"
          ]
        }
      ]
    },
    {
      "cell_type": "code",
      "source": [
        "!zip -r runs-yv8n-seg.zip './runs/segment/train'"
      ],
      "metadata": {
        "colab": {
          "base_uri": "https://localhost:8080/"
        },
        "id": "9c08-mUay-fO",
        "outputId": "44ff20e4-fded-436e-b47f-8437450eb123"
      },
      "execution_count": 9,
      "outputs": [
        {
          "output_type": "stream",
          "name": "stdout",
          "text": [
            "  adding: runs/segment/train/ (stored 0%)\n",
            "  adding: runs/segment/train/labels.jpg (deflated 20%)\n",
            "  adding: runs/segment/train/confusion_matrix.png (deflated 16%)\n",
            "  adding: runs/segment/train/val_batch2_pred.jpg (deflated 10%)\n",
            "  adding: runs/segment/train/events.out.tfevents.1709576273.cc398dc1ce59.646.0 (deflated 79%)\n",
            "  adding: runs/segment/train/val_batch1_labels.jpg (deflated 6%)\n",
            "  adding: runs/segment/train/val_batch1_pred.jpg (deflated 8%)\n",
            "  adding: runs/segment/train/MaskP_curve.png (deflated 9%)\n",
            "  adding: runs/segment/train/val_batch0_labels.jpg (deflated 9%)\n",
            "  adding: runs/segment/train/results.csv (deflated 82%)\n",
            "  adding: runs/segment/train/train_batch2.jpg (deflated 20%)\n",
            "  adding: runs/segment/train/BoxF1_curve.png (deflated 10%)\n",
            "  adding: runs/segment/train/val_batch0_pred.jpg (deflated 8%)\n",
            "  adding: runs/segment/train/weights/ (stored 0%)\n",
            "  adding: runs/segment/train/weights/last.pt (deflated 9%)\n",
            "  adding: runs/segment/train/weights/best.pt (deflated 9%)\n",
            "  adding: runs/segment/train/MaskF1_curve.png (deflated 10%)\n",
            "  adding: runs/segment/train/confusion_matrix_normalized.png (deflated 12%)\n",
            "  adding: runs/segment/train/BoxP_curve.png (deflated 9%)\n",
            "  adding: runs/segment/train/labels_correlogram.jpg (deflated 34%)\n",
            "  adding: runs/segment/train/results.png (deflated 7%)\n",
            "  adding: runs/segment/train/args.yaml (deflated 51%)\n",
            "  adding: runs/segment/train/MaskR_curve.png (deflated 11%)\n",
            "  adding: runs/segment/train/val_batch2_labels.jpg (deflated 11%)\n",
            "  adding: runs/segment/train/train_batch0.jpg (deflated 16%)\n",
            "  adding: runs/segment/train/train_batch1.jpg (deflated 18%)\n",
            "  adding: runs/segment/train/MaskPR_curve.png (deflated 8%)\n",
            "  adding: runs/segment/train/BoxR_curve.png (deflated 10%)\n",
            "  adding: runs/segment/train/BoxPR_curve.png (deflated 8%)\n"
          ]
        }
      ]
    },
    {
      "cell_type": "code",
      "source": [
        "!zip -r runs-yv8s-seg.zip './runs/segment/train2'"
      ],
      "metadata": {
        "colab": {
          "base_uri": "https://localhost:8080/"
        },
        "id": "gq4p9iYQzKMH",
        "outputId": "1728e57b-ca89-457b-df57-7d5cd6b3a13e"
      },
      "execution_count": 10,
      "outputs": [
        {
          "output_type": "stream",
          "name": "stdout",
          "text": [
            "  adding: runs/segment/train2/ (stored 0%)\n",
            "  adding: runs/segment/train2/labels.jpg (deflated 20%)\n",
            "  adding: runs/segment/train2/confusion_matrix.png (deflated 16%)\n",
            "  adding: runs/segment/train2/events.out.tfevents.1709577783.cc398dc1ce59.7046.0 (deflated 79%)\n",
            "  adding: runs/segment/train2/val_batch2_pred.jpg (deflated 10%)\n",
            "  adding: runs/segment/train2/val_batch1_labels.jpg (deflated 6%)\n",
            "  adding: runs/segment/train2/val_batch1_pred.jpg (deflated 7%)\n",
            "  adding: runs/segment/train2/MaskP_curve.png (deflated 9%)\n",
            "  adding: runs/segment/train2/val_batch0_labels.jpg (deflated 9%)\n",
            "  adding: runs/segment/train2/results.csv (deflated 82%)\n",
            "  adding: runs/segment/train2/train_batch2.jpg (deflated 20%)\n",
            "  adding: runs/segment/train2/BoxF1_curve.png (deflated 10%)\n",
            "  adding: runs/segment/train2/val_batch0_pred.jpg (deflated 9%)\n",
            "  adding: runs/segment/train2/weights/ (stored 0%)\n",
            "  adding: runs/segment/train2/weights/last.pt (deflated 8%)\n",
            "  adding: runs/segment/train2/weights/best.pt (deflated 8%)\n",
            "  adding: runs/segment/train2/MaskF1_curve.png (deflated 10%)\n",
            "  adding: runs/segment/train2/confusion_matrix_normalized.png (deflated 13%)\n",
            "  adding: runs/segment/train2/BoxP_curve.png (deflated 9%)\n",
            "  adding: runs/segment/train2/labels_correlogram.jpg (deflated 34%)\n",
            "  adding: runs/segment/train2/results.png (deflated 7%)\n",
            "  adding: runs/segment/train2/args.yaml (deflated 51%)\n",
            "  adding: runs/segment/train2/MaskR_curve.png (deflated 11%)\n",
            "  adding: runs/segment/train2/val_batch2_labels.jpg (deflated 11%)\n",
            "  adding: runs/segment/train2/train_batch0.jpg (deflated 16%)\n",
            "  adding: runs/segment/train2/train_batch1.jpg (deflated 18%)\n",
            "  adding: runs/segment/train2/MaskPR_curve.png (deflated 9%)\n",
            "  adding: runs/segment/train2/BoxR_curve.png (deflated 11%)\n",
            "  adding: runs/segment/train2/BoxPR_curve.png (deflated 9%)\n"
          ]
        }
      ]
    },
    {
      "cell_type": "code",
      "source": [],
      "metadata": {
        "id": "Q8qtgKlCzQYP"
      },
      "execution_count": null,
      "outputs": []
    }
  ]
}